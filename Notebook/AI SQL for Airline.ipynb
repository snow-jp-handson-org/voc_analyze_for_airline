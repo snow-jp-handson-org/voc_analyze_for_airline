{
 "metadata": {
  "kernelspec": {
   "display_name": "Streamlit Notebook",
   "name": "streamlit"
  },
  "lastEditStatus": {
   "notebookId": "go6rswrd55354u2mqi2d",
   "authorId": "6290739671967",
   "authorName": "YSAKURAGI",
   "authorEmail": "yuki.sakuragi@snowflake.com",
   "sessionId": "82d82b45-be28-463f-80ad-3ba2771016f5",
   "lastEditTime": 1761651606503
  }
 },
 "nbformat_minor": 5,
 "nbformat": 4,
 "cells": [
  {
   "cell_type": "markdown",
   "id": "e1d9d3b1-d206-4bb9-a4eb-aab0572dbedb",
   "metadata": {
    "name": "Title",
    "collapsed": false
   },
   "source": "# AI/LLM HandsOn for Airline\n"
  },
  {
   "cell_type": "markdown",
   "id": "4dd831b5-2cdc-4c11-a9aa-c221ac28a41c",
   "metadata": {
    "name": "ai_sql",
    "collapsed": false
   },
   "source": "![IMAGE](https://lh3.googleusercontent.com/pw/AP1GczMyaj3spXb9Gb1uajyihEptrgaxfl9wh0X78uLm0V3kFYm8zHf3yPkfQ7_pBTtBId9J0A4x_hwUcyfJYkF3CitV9fOONJyUcQ174BaW_TqcnNE5qoy-jdHYa-3W1Cn-G5ie5B99daVeA1MgjRaePtII=w960-h540-s-no-gm?authuser=0)"
  },
  {
   "cell_type": "markdown",
   "id": "ed7d46c3-5bde-49f1-a91a-437af7527a54",
   "metadata": {
    "name": "ai_sql_functions_list",
    "collapsed": false
   },
   "source": "![IMAGE](https://lh3.googleusercontent.com/pw/AP1GczOSDXvnoC1Glmw9znZbW1TDUbjKkKNIyxLmqUwssA3dCmjZ1Ghr6KQXmI3xINN88b-vKUFZdlJH8GV3Ot2DZfCS1vB0sN0W09H0yFp9YJei9JGxTLHHMcqMBG7ZwV6hmz1NhEZiksrAXFutHyuZbp7H=w960-h540-s-no-gm?authuser=0)"
  },
  {
   "cell_type": "code",
   "id": "5a2b4dda-e4b9-4884-8162-78d75c640931",
   "metadata": {
    "language": "sql",
    "name": "Check_Table"
   },
   "outputs": [],
   "source": "-- テーブルの中身を確認\nSELECT * FROM SURVEYS\nORDER BY SURVEY_ID \nLIMIT 100;",
   "execution_count": null
  },
  {
   "cell_type": "markdown",
   "id": "49cf96a0-8f85-4675-a12a-287e92282512",
   "metadata": {
    "name": "STORY_TRANSLATE",
    "collapsed": false
   },
   "source": "![IMAGE](https://lh3.googleusercontent.com/pw/AP1GczMxrw5tjayt9QWh41OOEMPclsPwjzmHoYW5n0b1c3ndR-K3bmA7SY65MlBSTSpe2X4L4tuLisf301dSzgbd01vVrFntwH2lWDQOm4GLGqFa1yAt7IxqDYlJVdrvMNzmCHl-pqrDckkM3nZsJ8X_qefU=w960-h540-s-no-gm?authuser=0)"
  },
  {
   "cell_type": "markdown",
   "id": "b0750255-9bb5-4e4c-b487-121a0fe65646",
   "metadata": {
    "name": "AI_TRANSLATE",
    "collapsed": false
   },
   "source": "![IMAGE](https://lh3.googleusercontent.com/pw/AP1GczMDy4DGjqoEP3LpxDGvqa-Pw1ASS-0Y7uqiI_Pw4_unAsgY0S2_pQM2JAzl4z2vGmslhRKtEpbLjTGUSoFJGTPXU2UL7M23aXiDpqPHf2e7WdSDA2CBqKRcHJrv6p2Jm15XDm8an3-UIMvRgAFM4c3r=w960-h540-s-no-gm?authuser=0)"
  },
  {
   "cell_type": "code",
   "id": "426e5a3b-4068-485f-996e-5ae9ed2f262b",
   "metadata": {
    "language": "sql",
    "name": "_Code_AI_TRANSLATE"
   },
   "outputs": [],
   "source": "-- テーブルの中身を確認\nSELECT \n    SURVEY_ID,\n    AI_TRANSLATE(FREE_TEXT_COMMENT, '','ja') as VOC_JP,\n    FREE_TEXT_COMMENT as VOC,\nFROM SURVEYS\nORDER BY SURVEY_ID \nLIMIT 100;",
   "execution_count": null
  },
  {
   "cell_type": "markdown",
   "id": "e8631c0c-eb02-4825-aefc-55828c437430",
   "metadata": {
    "name": "AI_COMPLETE_1",
    "collapsed": false
   },
   "source": "![IMAGE](https://lh3.googleusercontent.com/pw/AP1GczNxQpT9W6MGv6sQ2PjI1yBN3wuec-Yj8fLHdfTDA9Toqiq4FqYG8aLa7DOE8JEpwQAbHHd4zddHimWKOzfqyDP3WhzKPRUz8iS4qI-I3gOXsHky1aCQA-L56TWU5nLbmnB5YH--6vfpTEQyJQ9zOG3j=w960-h540-s-no-gm?authuser=0)"
  },
  {
   "cell_type": "code",
   "id": "0fc84afe-fe8e-4977-8203-8b29a4f56be1",
   "metadata": {
    "language": "sql",
    "name": "_Code_AI_COMPLETE_TRANSLATE"
   },
   "outputs": [],
   "source": "CREATE OR REPLACE TEMPORARY TABLE SURVEYS_TRANSLATE AS\nSELECT \n    SURVEY_ID,\n    TRIM(\n        AI_COMPLETE(\n            model => 'claude-4-sonnet',\n            prompt => concat('あなたは航空業界のプロフェッショナル翻訳者です。以下のテキストを自然で丁寧な日本語（敬体、航空サービスの顧客対応に適した文体）に翻訳してください。\n    \n    厳守事項:\n    - 追加・省略・要約をしない\n    - 固有名詞（人名、空港/都市名、航空会社名、便名、予約番号、PNR、座席番号、時刻、日付、通貨表記）は原則保持\n    - 単位・日付・時刻の表記は日本語で自然になる範囲で統一（曖昧なら原文維持）\n    - 既に日本語の場合は読みやすく整える程度で意味を変えない\n    - 絵文字・記号・URL・メール・予約参照・コードは破壊しない\n    - 出力は訳文のみ（前後の説明、見出し、引用、コードブロック禁止）\n    \n    翻訳対象テキスト：', FREE_TEXT_COMMENT)\n        )\n    ) as VOC_JP,\n    TRIM(\n        AI_COMPLETE(\n            model => 'claude-4-sonnet',\n            prompt => concat('あなたは航空業界のプロフェッショナル翻訳者です。以下のテキストを自然で丁寧な英語（航空サービスの顧客対応に適した文体）に翻訳してください。\n    \n    厳守事項:\n    - 追加・省略・要約をしない\n    - 固有名詞（人名、空港/都市名、航空会社名、便名、予約番号、PNR、座席番号、時刻、日付、通貨表記）は原則保持\n    - 単位・日付・時刻の表記は英語で自然になる範囲で統一（曖昧なら原文維持）\n    - 既に英語の場合は読みやすく整える程度で意味を変えない\n    - 絵文字・記号・URL・メール・予約参照・コードは破壊しない\n    - 出力は訳文のみ（前後の説明、見出し、引用、コードブロック禁止）\n    \n    翻訳対象テキスト：', FREE_TEXT_COMMENT)\n        )\n    ) as VOC_EN,\n    FREE_TEXT_COMMENT as VOC\nFROM SURVEYS\nORDER BY SURVEY_ID \nLIMIT 100;\n\nSELECT * FROM SURVEYS_TRANSLATE;",
   "execution_count": null
  },
  {
   "cell_type": "markdown",
   "id": "32cec96e-86e0-4fb5-bedc-3dbe568ec48f",
   "metadata": {
    "name": "STORY_CLASSIFY",
    "collapsed": false
   },
   "source": "![IMAGE](https://lh3.googleusercontent.com/pw/AP1GczPEAV6zvL-_zbSzle2wCqouqLYpPee7qYbHoCIGYXoBvqKSTDQXVap57TAHHdopphTh11JbERZ7tYpGEnoEGjEcTnwwUSehPq3fJk_-jDT1zrxsOAfKzlSBbR_teqWBVKFdJtaPCBbg_P01pbD2juzi=w960-h540-s-no-gm?authuser=0)"
  },
  {
   "cell_type": "markdown",
   "id": "7834c303-e4ea-4b8b-a8be-8d36bb677360",
   "metadata": {
    "name": "AI_CLASSIFY_Overview",
    "collapsed": false
   },
   "source": "![IMAGE](https://lh3.googleusercontent.com/pw/AP1GczOiMVu2i7bvX5nQgbFRloCt85OG2wMDSmBID2uslt3Uoh5cDeHV600OJxIMMZ2etKb3G6oz2ufsKnBqphOLTII10vDXwCfe1UEBdW0wQb_ovZZF8BjO8VU7xIS8DwED9ApG3ZbMILGaDNjL6Fj-i8Oe=w960-h540-s-no-gm?authuser=0)"
  },
  {
   "cell_type": "code",
   "id": "569acd2e-e2e2-4e46-b7f0-8af53adc7f4c",
   "metadata": {
    "language": "sql",
    "name": "_Code_AI_CLASSIFY_Simple"
   },
   "outputs": [],
   "source": "SELECT SURVEY_ID,\n       AI_CLASSIFY(\n            VOC_EN, \n            ['Researvation',\n            'Pre-Flight',\n            'In-Flight',\n            'Post-Flight'],\n            {'output_mode': 'multi'}\n        ) as ESTIMATE_STAGES_JSON,\n        VOC_JP,\n        VOC\nFROM SURVEYS_TRANSLATE\nLIMIT 10\n;\n",
   "execution_count": null
  },
  {
   "cell_type": "code",
   "id": "094e2336-4bd9-4cc8-8172-22caf10b4273",
   "metadata": {
    "language": "sql",
    "name": "_Code_AI_CLASSIFY_Rich"
   },
   "outputs": [],
   "source": "-- 推定ステージ（multi-label）と言語判定\nCREATE OR REPLACE TEMPORARY TABLE CLASSIFY_TMP AS\nSELECT\n  SURVEY_ID,\n  AI_CLASSIFY(\n    VOC_EN,\n    ARRAY_CONSTRUCT(\n      OBJECT_CONSTRUCT(\n        'label','Researvation',\n        'description','Booking/purchase via website/app/counter; booking-page seat selection; payment/credit card; PNR; confirmation email; changes/refund; upgrades'\n      ),\n      OBJECT_CONSTRUCT(\n        'label','Pre-Flight',\n        'description','Pre-boarding airport & gate-side: access/parking/hotel before flight; check-in; baggage drop; security; lounge; gate; boarding groups; priority; connections; pre-boarding delays/announcements'\n      ),\n      OBJECT_CONSTRUCT(\n        'label','In-Flight',\n        'description','Onboard after takeoff to landing: seat comfort; IFE/screen; Wi‑Fi/connectivity; meals/drinks; crew service; announcements; turbulence; lavatory; power'\n      ),\n      OBJECT_CONSTRUCT(\n        'label','Post-Flight',\n        'description','After landing (including deplaning): deplaning; immigration; customs; baggage claim; lost/delayed bags; arrival lounge; refunds/receipts; mileage credit; certificates; post-arrival support'\n      )\n    ),\n    OBJECT_CONSTRUCT(\n      'task_description','Classify airline review text into journey stages using only the given definitions.',\n      'output_mode','multi',\n      'examples', ARRAY_CONSTRUCT(\n        OBJECT_CONSTRUCT(\n          'input','The website made seat selection easy, but payment failed after entering my credit card.',\n          'labels',ARRAY_CONSTRUCT('Researvation'),\n          'explanation','Booking UI and payment are reservation.'\n        ),\n        OBJECT_CONSTRUCT(\n          'input','Gate delay due to aircraft maintenance; no clear announcements before boarding and I worried about my connection.',\n          'labels',ARRAY_CONSTRUCT('Pre-Flight'),\n          'explanation','Gate-side delay and pre-boarding announcements are pre-flight.'\n        ),\n        OBJECT_CONSTRUCT(\n          'input','Inflight Wi‑Fi kept dropping and the crew were very attentive.',\n          'labels',ARRAY_CONSTRUCT('In-Flight'),\n          'explanation','Wi‑Fi and crew are in-flight.'\n        ),\n        OBJECT_CONSTRUCT(\n          'input','Baggage was delayed at the carousel and I had to contact support for a receipt.',\n          'labels',ARRAY_CONSTRUCT('Post-Flight'),\n          'explanation','Baggage claim and post-arrival support are post‑flight.'\n        )\n      )\n    )\n  ) AS ESTIMATE_STAGES_JSON,\n  VOC_JP,\n  VOC_EN,\n  VOC,\n  TRIM(\n    AI_COMPLETE(\n      model => 'claude-4-sonnet',\n      prompt => concat(\n        '以下のテキストの主な言語を判定し、英語の言語名のみを1語（一般的な英語名）で出力してください。\n出力例: English, Japanese, Chinese, Korean, French, Spanish, German, Portuguese, Italian, Russian, Thai, Vietnamese, Indonesian, Arabic など\n追加説明・記号・括弧・確率・複数併記は禁止。判定不能な場合は「Unknown」。\nText: ', VOC)\n    )\n  ) AS LANG\nFROM SURVEYS_TRANSLATE\nLIMIT 100;\n\nSELECT * FROM CLASSIFY_TMP;",
   "execution_count": null
  },
  {
   "cell_type": "code",
   "id": "8a04f70f-b166-4b48-bdfd-c96059e00326",
   "metadata": {
    "language": "sql",
    "name": "_Code_FLATTEN_AI_CLASSIFY"
   },
   "outputs": [],
   "source": "CREATE OR REPLACE TEMPORARY TABLE CLASSIFY_TMP_FLATTEN AS\nSELECT\n  SURVEY_ID,\n  f.value::string AS STAGE,\n  VOC_JP,\n  VOC_EN,\n  VOC,\n  LANG\nFROM CLASSIFY_TMP,\nLATERAL FLATTEN(input => ESTIMATE_STAGES_JSON:labels) f;\n\nSELECT * FROM CLASSIFY_TMP_FLATTEN ORDER BY SURVEY_ID;",
   "execution_count": null
  },
  {
   "cell_type": "markdown",
   "id": "dce59b22-484e-4f5b-9032-ab51b1671c0b",
   "metadata": {
    "name": "STORY_EXTRACT",
    "collapsed": false
   },
   "source": "![IMAGE](https://lh3.googleusercontent.com/pw/AP1GczNdSUuLr6a9RLLTeoGosbNtX7aRf6fiHDo1RIZSEW73AqqAf6qbMPM-b9y3xQ_emB9JBF3bc00xWorp3Hw7A08AICBiR0WULeH39zzKIM1vP3ndOS0RkKZ06Aw3scFeCUVlRwGsC0OS4SEte_xbKsuy=w960-h540-s-no-gm?authuser=0)"
  },
  {
   "cell_type": "markdown",
   "id": "eb73dd60-810b-4f4d-bdfe-6f25a16ff1b3",
   "metadata": {
    "name": "AI_EXTRACT",
    "collapsed": false
   },
   "source": "![IMAGE](https://lh3.googleusercontent.com/pw/AP1GczNJxH80QEJdFt1JHKsjQj04ELQZ0vEaxnVbMmyyWGsoynUW7i5BfiC-ivCa3y5yBLXLwRu0jFIcaOpeQQ-yrG69weeejf19OTMaKBQUclYDC_d7YW6EIklyMq_4N1BaXfbrLp4sBuXevBcZMM-NGTfq=w960-h540-s-no-gm?authuser=0)"
  },
  {
   "cell_type": "code",
   "id": "0bfffb8f-673f-40a3-8014-5a23f1c9c10d",
   "metadata": {
    "language": "sql",
    "name": "_Code_AI_EXTRACT"
   },
   "outputs": [],
   "source": "SELECT\n  SURVEY_ID,\n  STAGE,\n  AI_EXTRACT(\n    text => VOC_JP,\n    responseFormat => OBJECT_CONSTRUCT(\n      'TARGET_TEXT',\n      CONCAT(\n        'あなたは航空会社のVOC分析担当です。以下のレビューから、[', STAGE, '] ステージのフィードバックを原文のまま抽出してください。フィードバック本文に加え、その理解に必要な背景（原因・状況・経緯・前後の説明）も含めてください。\n\nステージ定義（指定ステージのみ対象。他は除外）:\nResearvation: 航空チケットを購入する際のWebサイト/アプリ/窓口での予約購買体験\nPre-Flight: 出発前の空港関連体験（空港アクセス［電車/バス/車/タクシー/終電等］、駐車場、空港近隣ホテルでの前泊）および空港到着後の手続き〜搭乗開始までの体験\nIn-Flight: 離陸後から着陸までの機内体験\nPost-Flight: 降機から到着空港内、または空港退出後の事後対応\n\n出力は抽出原文のみ。\n該当するフィードバックがない場合は、NONE のみを出力（大文字・前後に他の文字や記号・説明なし）。\n\nテキスト：'\n      )\n    )\n  ):\"response\":\"TARGET_TEXT\"::string AS FEEDBACK,\n  VOC_JP,\n  LANG\nFROM CLASSIFY_TMP_FLATTEN;",
   "execution_count": null
  },
  {
   "cell_type": "markdown",
   "id": "6d1539cd-4f6d-491f-b72f-95c068b55806",
   "metadata": {
    "name": "AI_COMPLETE_Overview2",
    "collapsed": false
   },
   "source": "![IMAGE](https://lh3.googleusercontent.com/pw/AP1GczNxQpT9W6MGv6sQ2PjI1yBN3wuec-Yj8fLHdfTDA9Toqiq4FqYG8aLa7DOE8JEpwQAbHHd4zddHimWKOzfqyDP3WhzKPRUz8iS4qI-I3gOXsHky1aCQA-L56TWU5nLbmnB5YH--6vfpTEQyJQ9zOG3j=w960-h540-s-no-gm?authuser=0)"
  },
  {
   "cell_type": "code",
   "id": "3ca39b38-f3f3-4bd3-9f20-1040f7c8510a",
   "metadata": {
    "language": "sql",
    "name": "_Code_AI_COMPLETE_EXTRACT"
   },
   "outputs": [],
   "source": "CREATE OR REPLACE TEMPORARY TABLE SURVEY_CLASSIFY_EXTRACT AS\nSELECT\n  SURVEY_ID,\n  STAGE,\n  TRIM(\n    AI_COMPLETE(\n      model => 'claude-4-sonnet',\n      prompt => CONCAT(\n'あなたは航空会社のVOC分析担当です。以下のレビューから、[', STAGE, '] ステージのフィードバックを原文のまま抽出してください。フィードバック本文に加え、その理解に必要な背景（原因・状況・経緯・前後の説明）も含めてください。\n\nステージ定義（指定ステージのみ対象。他は除外）:\nResearvation: 航空チケットを購入する際のWebサイト/アプリ/窓口での予約購買体験\nPre-Flight: 出発前の空港関連体験（空港アクセス［電車/バス/車/タクシー/終電等］、駐車場、空港近隣ホテルでの前泊）および空港到着後の手続き〜搭乗開始までの体験\nIn-Flight: 離陸後から着陸までの機内体験\nPost-Flight: 降機から到着空港内、または空港退出後の事後対応\n\n出力は抽出原文のみ。\n該当するフィードバックがない場合は、NONE のみを出力（大文字・前後に他の文字や記号・説明なし）。\n\nテキスト：',\n        VOC_JP\n      )\n    )\n  ) AS FEEDBACK,\n  VOC_JP,\n  LANG\nFROM CLASSIFY_TMP_FLATTEN\nWHERE FEEDBACK != 'NONE';\n\nSELECT * FROM SURVEY_CLASSIFY_EXTRACT;",
   "execution_count": null
  },
  {
   "cell_type": "code",
   "id": "476dde50-7bb6-430e-96f3-f07e359bcc65",
   "metadata": {
    "language": "python",
    "name": "_SampleApp1"
   },
   "outputs": [],
   "source": "import streamlit as st\nimport pandas as pd\nfrom snowflake.snowpark.context import get_active_session\nimport snowflake.snowpark.functions as F\n\nsession = get_active_session()\n\nst.title(\"🧭 Survey Extract by STAGE\")\nst.caption(\"テーブル `SURVEY_CLASSIFY_EXTRACT` を STAGE（単一選択）で絞り込み表示\")\n\n# データ取得\ndf = session.table(\"SURVEY_CLASSIFY_EXTRACT\")\n\n# STAGE 選択肢候補を取得\nstage_options_df = (\n    df.select(F.col(\"STAGE\"))\n    .where(F.col(\"STAGE\").is_not_null())\n    .distinct()\n    .sort(F.col(\"STAGE\"))\n)\nstage_options = stage_options_df.to_pandas()[\"STAGE\"].tolist()\n\n# 単一選択（「すべて」を含む）\nselected_stage = st.selectbox(\"STAGE を選択\", options=[\"すべて\"] + stage_options, index=0)\n\n# フィルタ適用（Snowparkで安全に条件付与）\nif selected_stage != \"すべて\":\n    table_df = df.filter(F.col(\"STAGE\") == selected_stage)\nelse:\n    table_df = df\n\n# 表示\nst.subheader(\"明細（SURVEY_ID × STAGE）\")\ndf_detail = table_df.sort(F.col(\"SURVEY_ID\"), F.col(\"STAGE\"))\nif df_detail.count()==0:\n    st.info(\"該当データがありません。STAGE の選択を見直してください。\")\nelse:\n    st.dataframe(df_detail)",
   "execution_count": null
  },
  {
   "cell_type": "markdown",
   "id": "503386a6-6ea6-4fd8-86a6-bff58379b6e8",
   "metadata": {
    "name": "STORY_SENTIMENT",
    "collapsed": false
   },
   "source": "![IMAGE](https://lh3.googleusercontent.com/pw/AP1GczPf10Z9AbGFeU9HEskIE-Ayb2s4lchlJJTyHz5KLIBdeR5ayMM-p7rEe3oiU366N3QTufdGOfbYOg-ZQvoOhKUmBAt-EedOXxIfETeseHU5FtX9LjwpqzVVPpYb1LA74MXtSSl3gBnFNTvkSEB3zKhN=w960-h540-s-no-gm?authuser=0)"
  },
  {
   "cell_type": "markdown",
   "id": "fc433a13-0d1a-4ae4-a2fb-9bb615518b4c",
   "metadata": {
    "name": "SENTIMENT",
    "collapsed": false
   },
   "source": "![IMAGE](https://lh3.googleusercontent.com/pw/AP1GczNnq01BMRVxabg_AyqRqXu60hYshvqLv_WIg3rGs2sASrHEb6Z8GpH6dSOrunIJcntls1QHRwflEEPTi5oLQzkoKi-94B4C3pzDY_SbdRdgNSKdISlWmmq8aNwdVVOs4Fc7ZwpXJgzPB1Yg3bNcaPA0=w960-h540-s-no-gm?authuser=0)"
  },
  {
   "cell_type": "code",
   "id": "c7321e50-9e5b-450b-b722-5d96508082ef",
   "metadata": {
    "language": "sql",
    "name": "_Code_SENTIMENT"
   },
   "outputs": [],
   "source": "CREATE OR REPLACE TRANSIENT TABLE SURVEY_SENTIMENT AS\nSELECT\n    SURVEY_ID,\n    STAGE,\n    SNOWFLAKE.CORTEX.SENTIMENT(\n        AI_TRANSLATE(FEEDBACK,'','en')\n        ) as SENTIMENT_SCORE,\n    CASE\n    WHEN SENTIMENT_SCORE >= 0.5  THEN 'Positive'\n    WHEN SENTIMENT_SCORE >  -0.5 THEN 'Neutral'\n    ELSE 'Negative'\n  END AS SENTIMENT,\n    FEEDBACK,\n    VOC_JP,\n    LANG\nFROM SURVEY_CLASSIFY_EXTRACT;\n\nSELECT * FROM SURVEY_SENTIMENT;",
   "execution_count": null
  },
  {
   "cell_type": "code",
   "id": "cc0150a0-551d-46e1-8b4d-db622bd158a1",
   "metadata": {
    "language": "python",
    "name": "_SampleApp2"
   },
   "outputs": [],
   "source": "import streamlit as st\nfrom snowflake.snowpark.context import get_active_session\nimport snowflake.snowpark.functions as F\n\nsession = get_active_session()\n\nst.title(\"🧭 Survey Sentiment Filter\")\nst.caption(\"`SURVEY_SENTIMENT` を STAGE と SENTIMENT で絞り込み表示）\")\n\n# データ取得\ndf = session.table(\"SURVEY_SENTIMENT\")\n\n# STAGE 選択肢候補を取得\nstage_options_df = (\n    df.select(F.col(\"STAGE\"))\n    .where(F.col(\"STAGE\").is_not_null())\n    .distinct()\n    .sort(F.col(\"STAGE\"))\n)\n\nstage_options = stage_options_df.to_pandas()[\"STAGE\"].tolist()\nsent_options = [\"Positive\",\"Neutral\",\"Negative\"]\n\n# セレクタ\nleft, right = st.columns(2)\nselected_stage = left.selectbox(\"STAGE を選択\", options=([\"すべて\"] + stage_options), index=0)\nselected_sent  = right.selectbox(\"SENTIMENT を選択\", options=([\"すべて\"] + sent_options), index=0)\n\n# サーバーサイド絞り込み\n\nif selected_stage != \"すべて\":\n    df = df.filter(F.col(\"STAGE\") == selected_stage)\nif selected_sent != \"すべて\":\n    df = df.filter(F.col(\"SENTIMENT\") == selected_sent)\n\nst.dataframe(df)",
   "execution_count": null
  },
  {
   "cell_type": "markdown",
   "id": "480b768e-9fee-4cb1-a56a-c6d8c09a0b00",
   "metadata": {
    "name": "STORY_AI_FILTER",
    "collapsed": false
   },
   "source": "![IMAGE](https://lh3.googleusercontent.com/pw/AP1GczPJVU5lP17gPLKvuX1OYyTWYwmufMQ7F8NwWz1AYzSb3Qb3sXsZcr8CFP5j0YT2h0E5_aMFKrYaUbtha5g1-ddzNFFOVcm35_0kU9XDtmsTfF_NVtozQwChaKuPJ25T5rO25kKPgSvOnq292jl-9HmR=w960-h540-s-no-gm?authuser=0)"
  },
  {
   "cell_type": "markdown",
   "id": "3d9c7f0c-d177-4990-9486-417d42126b20",
   "metadata": {
    "name": "AI_FILTER",
    "collapsed": false
   },
   "source": "![IMAGE](https://lh3.googleusercontent.com/pw/AP1GczOS9FT5FngF1PoaXf0D-u-WfWtgXoztOwW8kTbU9GpheuAuPt6r9_x_sC0WRlN6NLMCunYMAo0-qN-YXGCKV82VIREDbLP4eiC91yf3_5JmcTLy1ayecaN9Zj6sZRFLhei86lB7lp2Qstq3i72oCRTw=w960-h540-s-no-gm?authuser=0)"
  },
  {
   "cell_type": "code",
   "id": "16dfbe9a-4346-441b-a218-035a785ec291",
   "metadata": {
    "language": "sql",
    "name": "_Code_AI_FILTER"
   },
   "outputs": [],
   "source": "SELECT * FROM SURVEY_SENTIMENT\nWHERE AI_FILTER(CONCAT('ネガティブなレビューが含まれる: ', FEEDBACK))",
   "execution_count": null
  },
  {
   "cell_type": "code",
   "id": "625965ec-5948-429e-8550-8dbe856f9fb7",
   "metadata": {
    "language": "python",
    "name": "_SampleApp3"
   },
   "outputs": [],
   "source": "import streamlit as st\nfrom snowflake.snowpark.context import get_active_session\nimport snowflake.snowpark.functions as F\n\nsession = get_active_session()\n\nst.title(\"🧭 Review Filter with AI_FILTER\")\nst.caption(\"テーブル `SURVEYS` を AI_FILTER で任意テキスト絞り込み（pandas不使用）\")\n\n# データ取得\ndf = session.table(\"SURVEY_SENTIMENT\")\n\n# STAGE 選択肢候補を取得\nstage_options_df = (\n    df.select(F.col(\"STAGE\"))\n    .where(F.col(\"STAGE\").is_not_null())\n    .distinct()\n    .sort(F.col(\"STAGE\"))\n)\n\nstage_options = stage_options_df.to_pandas()[\"STAGE\"].tolist()\nsent_options = [\"Positive\",\"Neutral\",\"Negative\"]\n\n# セレクタ\nleft,center, right = st.columns([1,1,3])\nselected_stage = left.selectbox(\"STAGE を選択\", options=([\"すべて\"] + stage_options), index=0)\nselected_sent  = center.selectbox(\"SENTIMENT を選択\", options=([\"すべて\"] + sent_options), index=0)\n# フィルタ用プロンプト（例: 「ネガティブなレビューが含まれる: 」）\nprompt = right.text_input(\"AI_FILTER に渡すテキスト（先頭に付与）\", value=\"ネガティブなレビューが含まれる: \")\n\n\n# サーバーサイド絞り込み\nif selected_stage != \"すべて\":\n    df = df.filter(F.col(\"STAGE\") == selected_stage)\nif selected_sent != \"すべて\":\n    df = df.filter(F.col(\"SENTIMENT\") == selected_sent)\n\n# AI_FILTER でサーバーサイド絞り込み（FEEDBACKがNULLの場合は空文字に）\ndf = df.filter(\n    F.call_function(\"AI_FILTER\", F.concat(F.lit(prompt), F.coalesce(F.col(\"FEEDBACK\"), F.lit(\"\"))))\n)\n\nst.dataframe(df)",
   "execution_count": null
  },
  {
   "cell_type": "markdown",
   "id": "02f331a9-cf54-49ec-b471-a70d2c44b5df",
   "metadata": {
    "name": "STORY_AI_SUMMARIZE",
    "collapsed": false
   },
   "source": "![IMAGE](https://lh3.googleusercontent.com/pw/AP1GczMa6jWFsOQ9OE4TVEdWR1pqemRJ8HXuo-qG1ZpJcnF5f2PhQxhqRHPGyEd2lc9Fb5s2xbVVvGt0vHQr0hLHIE1W9eLDEKNPPC3I3JfxbKmTeTtH61drlEq5T81Jr_EAHl7TtHlEACy0l3NVEM0v4Edh=w960-h540-s-no-gm?authuser=0)"
  },
  {
   "cell_type": "markdown",
   "id": "a856d631-d3b1-49fd-80e2-04a4bb2a9590",
   "metadata": {
    "name": "AI_SUMMARIZE_AGG",
    "collapsed": false
   },
   "source": "![IMAGE](https://lh3.googleusercontent.com/pw/AP1GczO24ioemxd2edx9z7IY8UR9P7PYYj7n1M9EJNU6va57q3cLY-6wY7Tow352tmhE_4UiYpwG6ysJP59CicejEJbyqc7E-wA7vJJ7205Pv-8zqEo5Fwca6eqAbk16VeiPtIgOxrR5-VlgJ41NHhUHM9jF=w960-h540-s-no-gm?authuser=0)"
  },
  {
   "cell_type": "code",
   "id": "00d5402f-eb48-4b90-967b-3248acf713d3",
   "metadata": {
    "language": "sql",
    "name": "_Code_AI_SUMMARIZE_AGG"
   },
   "outputs": [],
   "source": "SELECT\n    STAGE,\n    count(*) as COUNT,\n    avg(SENTIMENT_SCORE) as AVG_SENTIMENT_SCORE,\n    AI_SUMMARIZE_AGG(FEEDBACK) as SUMMARIZE\nFROM SURVEY_SENTIMENT\nGROUP BY STAGE;",
   "execution_count": null
  },
  {
   "cell_type": "markdown",
   "id": "26f5ab7d-fe4b-4c83-94cb-b5b892cbe61c",
   "metadata": {
    "name": "AI_AGG",
    "collapsed": false
   },
   "source": "![IMAGE](https://lh3.googleusercontent.com/pw/AP1GczNm7q3U9gFp0OoRyq13syK1FuGtPZV95gKYAcNFnAI6PTdEGHoWgKnH1DZULPRAsgN4SlZ2gG5vn9RUbr-irQKihvUvA317iQJ7yNH5BRBDLkkW4z6PHHFGIYq_FWD9n3KraELR9kP1Z_We4PEgVZh9=w960-h540-s-no-gm?authuser=0)"
  },
  {
   "cell_type": "code",
   "id": "793a6cbe-3c65-4c3b-b817-fbca53e15330",
   "metadata": {
    "language": "sql",
    "name": "_Code_AI_AGG"
   },
   "outputs": [],
   "source": "SELECT\n    STAGE,\n    count(*) as COUNT,\n    avg(SENTIMENT_SCORE) as AVG_SENTIMENT_SCORE,\n    AI_AGG(FEEDBACK, 'ネガティブなフィードバックをトピックと具体事象で表示し, それに対する改善案を提示してください') as INSIGHT\nFROM SURVEY_SENTIMENT\nGROUP BY STAGE;",
   "execution_count": null
  },
  {
   "cell_type": "code",
   "id": "132ef3c7-8c69-4a4c-a9d1-8331f672f4ae",
   "metadata": {
    "language": "python",
    "name": "_SampleApp4"
   },
   "outputs": [],
   "source": "import streamlit as st\nfrom snowflake.snowpark.context import get_active_session\nimport snowflake.snowpark.functions as F\n\nsession = get_active_session()\n\nst.title(\"🧭 SURVEY_SENTIMENT 集計（STAGE選択 × AI_AGG 指示）\")\nst.caption(\"選択した STAGE に対して、件数・平均スコア・AI_AGGインサイトを表示（pandas不使用）\")\n\ndf = session.table(\"SURVEY_SENTIMENT\")\n\n# STAGE 選択肢候補を取得\nstage_options_df = (\n    df.select(F.col(\"STAGE\"))\n    .where(F.col(\"STAGE\").is_not_null())\n    .distinct()\n    .sort(F.col(\"STAGE\"))\n)\n\nstage_options = stage_options_df.to_pandas()[\"STAGE\"].tolist()\n\nif not stage_options:\n    st.warning(\"STAGE 候補が見つかりません。テーブル内容を確認してください。\")\n    st.stop()\n\n# セッション状態の初期化\nif \"stage_summary\" not in st.session_state:\n    st.session_state.stage_summary = None\nif \"stage_summary_initialized\" not in st.session_state:\n    st.session_state.stage_summary_initialized = False\n\n# STAGE変更時のみ要約を更新\ndef update_stage_summary():\n    selected = st.session_state[\"selected_stage\"]\n    try:\n        with st.spinner(\"STAGE の要約を生成中...\"):\n            if selected == \"すべて\":\n                summary_df = df.agg(\n                    F.call_function(\"AI_SUMMARIZE_AGG\", F.col(\"FEEDBACK\")).alias(\"SUMMARY\")\n                )\n            else:\n                base_for_summary = df.filter(F.col(\"STAGE\") == selected)\n                summary_df = base_for_summary.agg(\n                    F.call_function(\"AI_SUMMARIZE_AGG\", F.col(\"FEEDBACK\")).alias(\"SUMMARY\")\n                )\n            rows = summary_df.collect()\n            st.session_state.stage_summary = rows[0][\"SUMMARY\"] if rows else None\n    except Exception:\n        st.session_state.stage_summary = None\n\n# 「すべて」を先頭に追加し、選択変更で要約を再計算\nselected_stage = st.selectbox(\n    \"STAGE を選択\",\n    options=([\"すべて\"] + stage_options),\n    index=0,\n    key=\"selected_stage\",\n    on_change=update_stage_summary,\n)\n\n# 初回描画時は現在の選択で要約を一度だけ計算\nif not st.session_state.stage_summary_initialized:\n    update_stage_summary()\n    st.session_state.stage_summary_initialized = True\n\n# 要約の表示\nst.markdown(\"#### STAGE の要約（AI_SUMMARIZE_AGG）\")\nif st.session_state.stage_summary:\n    st.info(st.session_state.stage_summary)\nelse:\n    st.caption(\"要約が取得できませんでした。\")\n\n# AI_AGG 指示（キーを設定して値を安定保持）\ndefault_instruction = \"ネガティブなフィードバックをトピックと具体事象で整理してください。最後に改善案のTOP3をトピックと具体改善内容を提言してください。\"\ninstruction = st.text_area(\"AI_AGG への指示（日本語OK）\", value=default_instruction, height=120, key=\"agg_instruction\")\n\n# ボタン押下時は AI_AGG のみ実行（要約は再計算しない）\nif st.button(\"集計を実行\"):\n    if not instruction.strip():\n        st.warning(\"AI_AGG の指示を入力してください。\")\n        st.stop()\n\n    # 最終プロンプトを組み立て（ユーザー指示 + 出力形式）\n    agg_prompt = instruction.strip() + \"\\n\\n出力は見やすいようにマークダウン形式で出力してください。\"\n\n    with st.spinner(\"集計中...\"):\n        if selected_stage == \"すべて\":\n            agg_df = (\n                df.agg(\n                    F.count(F.lit(1)).alias(\"COUNT\"),\n                    F.avg(F.col(\"SENTIMENT_SCORE\")).alias(\"AVG_SENTIMENT_SCORE\"),\n                    F.call_function(\"AI_AGG\", F.col(\"FEEDBACK\"), F.lit(agg_prompt)).alias(\"INSIGHT\"),\n                )\n                .select(\n                    F.lit(\"すべて\").alias(\"STAGE\"),\n                    F.col(\"COUNT\"),\n                    F.col(\"AVG_SENTIMENT_SCORE\"),\n                    F.col(\"INSIGHT\"),\n                )\n            )\n        else:\n            base = df.filter(F.col(\"STAGE\") == selected_stage)\n            agg_df = (\n                base.group_by(F.col(\"STAGE\"))\n                    .agg(\n                        F.count(F.lit(1)).alias(\"COUNT\"),\n                        F.avg(F.col(\"SENTIMENT_SCORE\")).alias(\"AVG_SENTIMENT_SCORE\"),\n                        F.call_function(\"AI_AGG\", F.col(\"FEEDBACK\"), F.lit(agg_prompt)).alias(\"INSIGHT\"),\n                    )\n            )\n\n        rows = agg_df.collect()\n\n    if not rows:\n        st.info(\"結果がありません。データを確認してください。\")\n    else:\n        row = rows[0]\n        count_val = row[\"COUNT\"]\n        avg_score = row[\"AVG_SENTIMENT_SCORE\"]\n        insight = row[\"INSIGHT\"]\n\n        st.markdown(f\"### 📌 STAGE: `{selected_stage}`\")\n        c1, c2 = st.columns(2)\n        with c1:\n            st.metric(label=\"件数\", value=f\"{count_val:,}\")\n        with c2:\n            st.metric(label=\"平均 SENTIMENT スコア\", value=f\"{avg_score:.3f}\")\n\n        st.markdown(\"### 🧠 インサイト（AI_AGG）\")\n        st.markdown(insight if insight else \"_インサイトは空でした。_\")\n\n        # 確認用（必要なら展開して確認）\n        with st.expander(\"使用した AI_AGG プロンプトを表示\"):\n            st.code(agg_prompt)",
   "execution_count": null
  }
 ]
}
